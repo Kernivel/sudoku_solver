{
 "cells": [
  {
   "cell_type": "markdown",
   "id": "27ee8647",
   "metadata": {},
   "source": [
    "# Ma formation : Opencv "
   ]
  },
  {
   "cell_type": "markdown",
   "id": "3b6803ac",
   "metadata": {},
   "source": [
    "## import package"
   ]
  },
  {
   "cell_type": "code",
   "execution_count": 1,
   "id": "ecefa3c3",
   "metadata": {},
   "outputs": [
    {
     "data": {
      "text/plain": [
       "'2.9.1'"
      ]
     },
     "execution_count": 1,
     "metadata": {},
     "output_type": "execute_result"
    }
   ],
   "source": [
    "from statistics import mode\n",
    "import tensorflow as tf\n",
    "import numpy as np\n",
    "from matplotlib import pyplot as plt\n",
    "from tensorflow import keras\n",
    "from tensorflow.keras import layers\n",
    "tf.__version__"
   ]
  },
  {
   "cell_type": "code",
   "execution_count": 2,
   "id": "647090eb",
   "metadata": {},
   "outputs": [],
   "source": [
    "mnist = tf.keras.datasets.mnist\n",
    "num_classes = 10\n",
    "(xTrain, yTrain), (xTest, yTest) = mnist.load_data()\n",
    "xTrain = tf.keras.utils.normalize(xTrain,axis=1)\n",
    "xTest = tf.keras.utils.normalize(xTest,axis=1)\n",
    "# Make sure images have shape (28, 28, 1)\n",
    "xTrain = np.expand_dims(xTrain, -1)\n",
    "xTest = np.expand_dims(xTest, -1)\n",
    "\n",
    "# convert class vectors to binary class matrices\n",
    "yTrain = keras.utils.to_categorical(yTrain, num_classes)\n",
    "yTest = keras.utils.to_categorical(yTest, num_classes)"
   ]
  },
  {
   "cell_type": "markdown",
   "id": "66c9c0e1",
   "metadata": {},
   "source": [
    "## Check image"
   ]
  },
  {
   "cell_type": "code",
   "execution_count": 3,
   "id": "5e57266a",
   "metadata": {},
   "outputs": [
    {
     "name": "stderr",
     "output_type": "stream",
     "text": [
      "c:\\Users\\hrevois\\AppData\\Local\\Programs\\Python\\Python310\\lib\\site-packages\\matplotlib\\text.py:1223: FutureWarning: elementwise comparison failed; returning scalar instead, but in the future will perform elementwise comparison\n",
      "  if s != self._text:\n"
     ]
    },
    {
     "data": {
      "image/png": "[encoded data removed]",
      "text/plain": [
       "<Figure size 432x288 with 2 Axes>"
      ]
     },
     "metadata": {
      "needs_background": "light"
     },
     "output_type": "display_data"
    }
   ],
   "source": [
    "plt.imshow(xTrain[0],cmap='Greys')\n",
    "plt.title(yTrain[0])\n",
    "plt.colorbar()\n",
    "plt.show()"
   ]
  },
  {
   "cell_type": "markdown",
   "id": "f7ad31e7",
   "metadata": {},
   "source": [
    "## Build the model"
   ]
  },
  {
   "cell_type": "code",
   "execution_count": 4,
   "id": "9bdd4a27",
   "metadata": {},
   "outputs": [
    {
     "name": "stdout",
     "output_type": "stream",
     "text": [
      "Model: \"sequential\"\n",
      "_________________________________________________________________\n",
      " Layer (type)                Output Shape              Param #   \n",
      "=================================================================\n",
      " conv2d (Conv2D)             (None, 26, 26, 32)        320       \n",
      "                                                                 \n",
      " max_pooling2d (MaxPooling2D  (None, 13, 13, 32)       0         \n",
      " )                                                               \n",
      "                                                                 \n",
      " conv2d_1 (Conv2D)           (None, 11, 11, 64)        18496     \n",
      "                                                                 \n",
      " max_pooling2d_1 (MaxPooling  (None, 5, 5, 64)         0         \n",
      " 2D)                                                             \n",
      "                                                                 \n",
      " flatten (Flatten)           (None, 1600)              0         \n",
      "                                                                 \n",
      " dropout (Dropout)           (None, 1600)              0         \n",
      "                                                                 \n",
      " dense (Dense)               (None, 10)                16010     \n",
      "                                                                 \n",
      "=================================================================\n",
      "Total params: 34,826\n",
      "Trainable params: 34,826\n",
      "Non-trainable params: 0\n",
      "_________________________________________________________________\n",
      "Epoch 1/15\n",
      "422/422 [==============================] - 15s 34ms/step - loss: 0.4578 - accuracy: 0.8637 - val_loss: 0.1125 - val_accuracy: 0.9692\n",
      "Epoch 2/15\n",
      "422/422 [==============================] - 15s 36ms/step - loss: 0.1483 - accuracy: 0.9549 - val_loss: 0.0753 - val_accuracy: 0.9787\n",
      "Epoch 3/15\n",
      "422/422 [==============================] - 15s 36ms/step - loss: 0.1127 - accuracy: 0.9652 - val_loss: 0.0621 - val_accuracy: 0.9817\n",
      "Epoch 4/15\n",
      "422/422 [==============================] - 17s 39ms/step - loss: 0.0933 - accuracy: 0.9710 - val_loss: 0.0547 - val_accuracy: 0.9833\n",
      "Epoch 5/15\n",
      "422/422 [==============================] - 17s 41ms/step - loss: 0.0811 - accuracy: 0.9749 - val_loss: 0.0493 - val_accuracy: 0.9862\n",
      "Epoch 6/15\n",
      "422/422 [==============================] - 16s 39ms/step - loss: 0.0739 - accuracy: 0.9773 - val_loss: 0.0451 - val_accuracy: 0.9873\n",
      "Epoch 7/15\n",
      "422/422 [==============================] - 16s 39ms/step - loss: 0.0680 - accuracy: 0.9793 - val_loss: 0.0418 - val_accuracy: 0.9887\n",
      "Epoch 8/15\n",
      "422/422 [==============================] - 16s 38ms/step - loss: 0.0604 - accuracy: 0.9813 - val_loss: 0.0414 - val_accuracy: 0.9878\n",
      "Epoch 9/15\n",
      "422/422 [==============================] - 16s 38ms/step - loss: 0.0565 - accuracy: 0.9825 - val_loss: 0.0389 - val_accuracy: 0.9892\n",
      "Epoch 10/15\n",
      "422/422 [==============================] - 16s 39ms/step - loss: 0.0541 - accuracy: 0.9830 - val_loss: 0.0389 - val_accuracy: 0.9893\n",
      "Epoch 11/15\n",
      "422/422 [==============================] - 16s 39ms/step - loss: 0.0514 - accuracy: 0.9836 - val_loss: 0.0379 - val_accuracy: 0.9895\n",
      "Epoch 12/15\n",
      "422/422 [==============================] - 16s 39ms/step - loss: 0.0496 - accuracy: 0.9844 - val_loss: 0.0336 - val_accuracy: 0.9903\n",
      "Epoch 13/15\n",
      "422/422 [==============================] - 17s 41ms/step - loss: 0.0459 - accuracy: 0.9854 - val_loss: 0.0340 - val_accuracy: 0.9913\n",
      "Epoch 14/15\n",
      "422/422 [==============================] - 18s 42ms/step - loss: 0.0449 - accuracy: 0.9855 - val_loss: 0.0330 - val_accuracy: 0.9907\n",
      "Epoch 15/15\n",
      "422/422 [==============================] - 19s 45ms/step - loss: 0.0405 - accuracy: 0.9868 - val_loss: 0.0337 - val_accuracy: 0.9910\n"
     ]
    },
    {
     "data": {
      "text/plain": [
       "<keras.callbacks.History at 0x263dce3ee90>"
      ]
     },
     "execution_count": 4,
     "metadata": {},
     "output_type": "execute_result"
    }
   ],
   "source": [
    "input_shape = (28, 28, 1)\n",
    "\n",
    "\n",
    "\n",
    "\n",
    "model = tf.keras.models.Sequential()\n",
    "\n",
    "#Add layers\n",
    "model.add(tf.keras.Input(shape = input_shape))\n",
    "model.add(tf.keras.layers.Conv2D(32, kernel_size=(3, 3), activation=\"relu\"))\n",
    "model.add(tf.keras.layers.MaxPooling2D(pool_size=(2, 2)))\n",
    "model.add(tf.keras.layers.Conv2D(64, kernel_size=(3, 3), activation=\"relu\"))\n",
    "model.add(tf.keras.layers.MaxPooling2D(pool_size=(2, 2)))\n",
    "model.add(tf.keras.layers.Flatten())\n",
    "model.add(tf.keras.layers.Dropout(0.5))\n",
    "model.add(tf.keras.layers.Dense(num_classes,activation = \"softmax\"))\n",
    "\n",
    "\n",
    "#Summary\n",
    "model.summary()\n",
    "\n",
    "\n",
    "\n",
    "#Compile with parameters (descent of gradiant etc...)\n",
    "model.compile(loss=\"categorical_crossentropy\", optimizer=\"adam\", metrics=[\"accuracy\"])\n",
    "\n",
    "\n",
    "#Test the model on the data\n",
    "batch_size = 128\n",
    "epochs = 15\n",
    "model.fit(xTrain, yTrain, batch_size=batch_size, epochs=epochs, validation_split=0.1)\n"
   ]
  },
  {
   "cell_type": "code",
   "execution_count": 5,
   "id": "e5e49d79",
   "metadata": {},
   "outputs": [
    {
     "name": "stdout",
     "output_type": "stream",
     "text": [
      "313/313 [==============================] - 1s 4ms/step - loss: 0.0306 - accuracy: 0.9892\n",
      "0.030638568103313446 0.9891999959945679\n"
     ]
    }
   ],
   "source": [
    "val_loss, val_acc = model.evaluate(xTest,yTest)\n",
    "print(val_loss,val_acc)"
   ]
  },
  {
   "cell_type": "code",
   "execution_count": 6,
   "id": "fcdaac56",
   "metadata": {},
   "outputs": [
    {
     "name": "stderr",
     "output_type": "stream",
     "text": [
      "WARNING:absl:Found untraced functions such as _jit_compiled_convolution_op, _jit_compiled_convolution_op while saving (showing 2 of 2). These functions will not be directly callable after loading.\n"
     ]
    },
    {
     "name": "stdout",
     "output_type": "stream",
     "text": [
      "INFO:tensorflow:Assets written to: saved_model/MNIST\\assets\n"
     ]
    },
    {
     "name": "stderr",
     "output_type": "stream",
     "text": [
      "INFO:tensorflow:Assets written to: saved_model/MNIST\\assets\n"
     ]
    }
   ],
   "source": [
    "model.save(\"saved_model/MNIST\")"
   ]
  },
  {
   "cell_type": "code",
   "execution_count": null,
   "id": "79a7b8e1",
   "metadata": {},
   "outputs": [],
   "source": []
  },
  {
   "cell_type": "code",
   "execution_count": null,
   "id": "4f01fa2e",
   "metadata": {},
   "outputs": [],
   "source": []
  }
 ],
 "metadata": {
  "interpreter": {
   "hash": "d79e16aa1ed97dd8c9e58e0190dbee6b5fd1b50773723c344076f141e6398056"
  },
  "kernelspec": {
   "display_name": "Python 3.10.4 64-bit",
   "language": "python",
   "name": "python3"
  },
  "language_info": {
   "codemirror_mode": {
    "name": "ipython",
    "version": 3
   },
   "file_extension": ".py",
   "mimetype": "text/x-python",
   "name": "python",
   "nbconvert_exporter": "python",
   "pygments_lexer": "ipython3",
   "version": "3.10.4"
  }
 },
 "nbformat": 4,
 "nbformat_minor": 5
}
