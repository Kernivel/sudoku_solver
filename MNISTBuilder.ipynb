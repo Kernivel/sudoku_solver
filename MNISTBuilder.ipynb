{
 "cells": [
  {
   "cell_type": "markdown",
   "id": "27ee8647",
   "metadata": {},
   "source": [
    "# Ma formation : Opencv "
   ]
  },
  {
   "cell_type": "markdown",
   "id": "3b6803ac",
   "metadata": {},
   "source": [
    "## import package"
   ]
  },
  {
   "cell_type": "code",
   "execution_count": 2,
   "id": "ecefa3c3",
   "metadata": {},
   "outputs": [
    {
     "data": {
      "text/plain": [
       "'2.9.1'"
      ]
     },
     "execution_count": 2,
     "metadata": {},
     "output_type": "execute_result"
    }
   ],
   "source": [
    "from statistics import mode\n",
    "import tensorflow as tf\n",
    "import numpy as np\n",
    "from matplotlib import pyplot as plt\n",
    "tf.__version__"
   ]
  },
  {
   "cell_type": "code",
   "execution_count": 3,
   "id": "647090eb",
   "metadata": {},
   "outputs": [],
   "source": [
    "mnist = tf.keras.datasets.mnist\n",
    "(xTrain, yTrain), (xTest, yTest) = mnist.load_data()\n",
    "xTrain = tf.keras.utils.normalize(xTrain,axis=1)\n",
    "xTest = tf.keras.utils.normalize(xTest,axis=1)"
   ]
  },
  {
   "cell_type": "markdown",
   "id": "66c9c0e1",
   "metadata": {},
   "source": [
    "## Check image"
   ]
  },
  {
   "cell_type": "code",
   "execution_count": 4,
   "id": "5e57266a",
   "metadata": {},
   "outputs": [
    {
     "data": {
      "image/png": "[encoded data removed]",
      "text/plain": [
       "<Figure size 432x288 with 2 Axes>"
      ]
     },
     "metadata": {
      "needs_background": "light"
     },
     "output_type": "display_data"
    }
   ],
   "source": [
    "plt.imshow(xTrain[0],cmap='Greys')\n",
    "plt.title(yTrain[0])\n",
    "plt.colorbar()\n",
    "plt.show()"
   ]
  },
  {
   "cell_type": "markdown",
   "id": "f7ad31e7",
   "metadata": {},
   "source": [
    "## Build the model"
   ]
  },
  {
   "cell_type": "code",
   "execution_count": 16,
   "id": "9bdd4a27",
   "metadata": {},
   "outputs": [
    {
     "name": "stdout",
     "output_type": "stream",
     "text": [
      "Epoch 1/2\n",
      "1875/1875 [==============================] - 3s 1ms/step - loss: 0.2674 - accuracy: 0.9225\n",
      "Epoch 2/2\n",
      "1875/1875 [==============================] - 2s 1ms/step - loss: 0.1092 - accuracy: 0.9663\n"
     ]
    },
    {
     "data": {
      "text/plain": [
       "<keras.callbacks.History at 0x19696771f30>"
      ]
     },
     "execution_count": 16,
     "metadata": {},
     "output_type": "execute_result"
    }
   ],
   "source": [
    "model = tf.keras.models.Sequential()\n",
    "\n",
    "#Add layers\n",
    "#Flat input\n",
    "model.add(tf.keras.layers.Flatten())\n",
    "#layer1\n",
    "#model.add(tf.keras.layers.Dropout(0.2))\n",
    "\n",
    "model.add(tf.keras.layers.Dense(128,activation = tf.nn.relu))\n",
    "#layer2\n",
    "#model.add(tf.keras.layers.Dropout(0.2))\n",
    "\n",
    "model.add(tf.keras.layers.Dense(128,activation = tf.nn.relu))\n",
    "\n",
    "#output\n",
    "model.add(tf.keras.layers.Dense(10,activation = tf.nn.softmax))\n",
    "\n",
    "#Compile with parameters (descent of gradiant etc...)\n",
    "model.compile(optimizer='adam',\n",
    "            loss= 'sparse_categorical_crossentropy',\n",
    "            metrics=['accuracy'])\n",
    "\n",
    "#Test the model on the data\n",
    "model.fit(xTrain,yTrain,epochs = 2)"
   ]
  },
  {
   "cell_type": "code",
   "execution_count": 17,
   "id": "e5e49d79",
   "metadata": {},
   "outputs": [
    {
     "name": "stdout",
     "output_type": "stream",
     "text": [
      "313/313 [==============================] - 0s 1ms/step - loss: 0.1107 - accuracy: 0.9678\n",
      "0.11068892478942871 0.9678000211715698\n"
     ]
    }
   ],
   "source": [
    "val_loss, val_acc = model.evaluate(xTest,yTest)\n",
    "print(val_loss,val_acc)"
   ]
  },
  {
   "cell_type": "code",
   "execution_count": 18,
   "id": "fcdaac56",
   "metadata": {},
   "outputs": [
    {
     "name": "stdout",
     "output_type": "stream",
     "text": [
      "INFO:tensorflow:Assets written to: saved_model/MNIST\\assets\n"
     ]
    }
   ],
   "source": [
    "model.save(\"saved_model/MNIST\")"
   ]
  },
  {
   "cell_type": "code",
   "execution_count": null,
   "id": "79a7b8e1",
   "metadata": {},
   "outputs": [],
   "source": []
  }
 ],
 "metadata": {
  "interpreter": {
   "hash": "d79e16aa1ed97dd8c9e58e0190dbee6b5fd1b50773723c344076f141e6398056"
  },
  "kernelspec": {
   "display_name": "Python 3.10.4 64-bit",
   "language": "python",
   "name": "python3"
  },
  "language_info": {
   "codemirror_mode": {
    "name": "ipython",
    "version": 3
   },
   "file_extension": ".py",
   "mimetype": "text/x-python",
   "name": "python",
   "nbconvert_exporter": "python",
   "pygments_lexer": "ipython3",
   "version": "3.10.4"
  }
 },
 "nbformat": 4,
 "nbformat_minor": 5
}
