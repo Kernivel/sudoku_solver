{
 "cells": [
  {
   "cell_type": "markdown",
   "id": "27ee8647",
   "metadata": {},
   "source": [
    "# Ma formation : Opencv "
   ]
  },
  {
   "cell_type": "markdown",
   "id": "3b6803ac",
   "metadata": {},
   "source": [
    "## import package"
   ]
  },
  {
   "cell_type": "code",
   "execution_count": 3,
   "id": "ecefa3c3",
   "metadata": {},
   "outputs": [],
   "source": [
    "from asyncio import threads\n",
    "from pickletools import uint8\n",
    "import cv2\n",
    "import numpy as np\n",
    "import tensorflow as tf\n",
    "from matplotlib import pyplot as plt\n",
    "import PySimpleGUI as sg\n"
   ]
  },
  {
   "cell_type": "markdown",
   "id": "e3a2dfec",
   "metadata": {},
   "source": [
    "## Functions"
   ]
  },
  {
   "cell_type": "code",
   "execution_count": 4,
   "id": "90e676cb",
   "metadata": {},
   "outputs": [],
   "source": [
    "def getPerspective(img,location,height = 900, width = 900):\n",
    "    cornersOg = np.float32([location[0], location[3], location[1], location[2]])\n",
    "    cornersFlattened = np.float32([[0, 0], [width, 0], [0, height], [width, height]])\n",
    "    transformMatrix = cv2.getPerspectiveTransform(cornersOg,cornersFlattened)\n",
    "    result = cv2.warpPerspective(img,transformMatrix,(width,height))\n",
    "    return result"
   ]
  },
  {
   "cell_type": "markdown",
   "id": "e0d7c67f",
   "metadata": {},
   "source": [
    "## UI For selcting mode"
   ]
  },
  {
   "cell_type": "code",
   "execution_count": 5,
   "id": "100c2fb4",
   "metadata": {},
   "outputs": [
    {
     "name": "stdout",
     "output_type": "stream",
     "text": [
      "Image\n"
     ]
    }
   ],
   "source": [
    "#Ui should let user chose between video camera or already rendered picture\n",
    "layout = [[sg.Text(\"Select an input video or image\")], [sg.Button(\"Webcam\")],[sg.Button(\"Image\")]]\n",
    "\n",
    "# Create the window\n",
    "window = sg.Window(\"Sudoku solver\", layout)\n",
    "flagMode = \"None\"\n",
    "# Create an event loop\n",
    "while True:\n",
    "    event, values = window.read()\n",
    "    # End program if user closes window or\n",
    "    # presses the OK button\n",
    "    if event == \"Webcam\":\n",
    "        flagMode = \"Webcam\"\n",
    "        break\n",
    "    if event == \"Image\" :\n",
    "        flagMode = \"Image\"\n",
    "        break\n",
    "    if event == sg.WIN_CLOSED:\n",
    "        break\n",
    "\n",
    "window.close()\n",
    "print(flagMode)"
   ]
  },
  {
   "cell_type": "code",
   "execution_count": 6,
   "id": "0f934bad",
   "metadata": {},
   "outputs": [
    {
     "name": "stdout",
     "output_type": "stream",
     "text": [
      "Using image\n"
     ]
    }
   ],
   "source": [
    "if flagMode == \"Webcam\":\n",
    "    print(\"Using webcam\")\n",
    "    #Create the webcam object using the default cam (0)\n",
    "    cam = cv2.VideoCapture(0)\n",
    "    if not cam.isOpened():\n",
    "        raise IOError(\"Error opening cam\")\n",
    "\n",
    "    while True:\n",
    "        #Fetch the image of the cam\n",
    "        [ret,image] = cam.read()\n",
    "        if not ret:\n",
    "            raise IOError(\"No image fetched\")\n",
    "        #Convert it to grayScale\n",
    "        grayImage = cv2.cvtColor(image,cv2.COLOR_BGR2GRAY)\n",
    "\n",
    "        #Tresholding\n",
    "        t1 = cv2.adaptiveThreshold(grayImage,255,cv2.ADAPTIVE_THRESH_GAUSSIAN_C,cv2.THRESH_BINARY_INV,9,4)\n",
    "\n",
    "        #Contouring\n",
    "        contours, Hierarchy = cv2.findContours(t1,cv2.RETR_TREE,cv2.CHAIN_APPROX_SIMPLE)\n",
    "        for i,contour in enumerate(contours):\n",
    "            area = cv2.contourArea(contour)\n",
    "            if area>16000:\n",
    "                approx = cv2.approxPolyDP(contour,0.01*cv2.arcLength(contour,True),True)\n",
    "                if len(approx == 4):\n",
    "                    mask = np.zeros(image.shape,np.uint8)\n",
    "                    cv2.drawContours(image,contours,i,(255,255,0),2)\n",
    "\n",
    "        #Showing images\n",
    "        cv2.imshow(\"Og\", image)\n",
    "        cv2.imshow(\"grayScale\", grayImage)\n",
    "        cv2.imshow(\"treshold\", t1)\n",
    "\n",
    "        c = cv2.waitKey(1)\n",
    "        #Leave the loop whe \"Esc\" is pressed\n",
    "        if c == 27:\n",
    "            print(\"Esc pressed\")\n",
    "            break\n",
    "\n",
    "    cam.release()\n",
    "    cv2.destroyAllWindows()\n",
    "if flagMode == \"Image\":\n",
    "    print(\"Using image\")\n",
    "    \n",
    "    #Open image\n",
    "    path = \"assets/gridBrut.png\"\n",
    "    image = cv2.imread(path)\n",
    "    \n",
    "    #Convert it to grayScale\n",
    "    grayImage = cv2.cvtColor(image,cv2.COLOR_BGR2GRAY)\n",
    "\n",
    "    #Gaussian filtering\n",
    "    grayBlur = cv2.GaussianBlur(grayImage,(3,3),1)\n",
    "    \n",
    "    #Tresholding\n",
    "    t1 = cv2.adaptiveThreshold(grayBlur,255,cv2.ADAPTIVE_THRESH_GAUSSIAN_C,cv2.THRESH_BINARY_INV,9,4)\n",
    "\n",
    "    #Contouring\n",
    "    contours, Hierarchy = cv2.findContours(t1,cv2.RETR_TREE,cv2.CHAIN_APPROX_SIMPLE)\n",
    "    for i,contour in enumerate(contours):\n",
    "        area = cv2.contourArea(contour)\n",
    "        if area>16000:\n",
    "            approx = cv2.approxPolyDP(contour,0.01*cv2.arcLength(contour,True),True)\n",
    "            if len(approx == 4):\n",
    "                mask = np.zeros(image.shape,np.uint8)\n",
    "                cv2.drawContours(image,contours,i,(255,255,0),2)\n",
    "\n",
    "\n",
    "    \n"
   ]
  },
  {
   "cell_type": "code",
   "execution_count": 7,
   "id": "36bf266d",
   "metadata": {},
   "outputs": [
    {
     "data": {
      "text/plain": [
       "True"
      ]
     },
     "execution_count": 7,
     "metadata": {},
     "output_type": "execute_result"
    },
    {
     "data": {
      "image/png": "[encoded data removed]",
      "text/plain": [
       "<Figure size 432x288 with 2 Axes>"
      ]
     },
     "metadata": {
      "needs_background": "light"
     },
     "output_type": "display_data"
    }
   ],
   "source": [
    "#Flatten the grid\n",
    "flatImage = getPerspective(grayImage,approx)\n",
    "flatImageBlur = cv2.GaussianBlur(flatImage,(9,9),5)\n",
    "flatImageTresh = cv2.adaptiveThreshold(flatImageBlur,255,cv2.ADAPTIVE_THRESH_GAUSSIAN_C,cv2.THRESH_BINARY_INV,9,3)\n",
    "plt.imshow(flatImageTresh,cmap='binary')\n",
    "plt.xticks([])\n",
    "plt.yticks([])\n",
    "plt.colorbar()\n",
    "cv2.imwrite(\"gridBrut.png\",grayImage)\n",
    "cv2.imwrite(\"grid.png\",flatImage)\n"
   ]
  },
  {
   "cell_type": "code",
   "execution_count": 8,
   "id": "3c29dd83",
   "metadata": {},
   "outputs": [
    {
     "data": {
      "text/plain": [
       "<matplotlib.colorbar.Colorbar at 0x1b0985ea980>"
      ]
     },
     "execution_count": 8,
     "metadata": {},
     "output_type": "execute_result"
    },
    {
     "data": {
      "image/png": "[encoded data removed]",
      "text/plain": [
       "<Figure size 432x288 with 2 Axes>"
      ]
     },
     "metadata": {
      "needs_background": "light"
     },
     "output_type": "display_data"
    }
   ],
   "source": [
    "#Go through the sudoku grid\n",
    "sudoku = np.zeros((9,9),np.int8)\n",
    "allInput = []\n",
    "\n",
    "for idx,x in np.ndenumerate(sudoku):\n",
    "    i = idx[0]\n",
    "    j = idx[1]\n",
    "    cellImage = flatImageTresh[i*100+5:i*100+90,j*100+5:j*100+90]\n",
    "    cellImageBlurred = cv2.GaussianBlur(cellImage,(3,3),2)\n",
    "    cellImageInput = cv2.resize(cellImageBlurred,(28,28))\n",
    "    input = np.asarray(cellImageInput,dtype=np.float32)\n",
    "    inputNormalized = input/255.0\n",
    "    #inputNormalized = tf.keras.utils.normalize(input)\n",
    "\n",
    "    allInput.append(inputNormalized)\n",
    "plt.imshow(allInput[7],cmap='binary')\n",
    "plt.colorbar()"
   ]
  },
  {
   "cell_type": "markdown",
   "id": "18a36705",
   "metadata": {},
   "source": [
    "## Load the model"
   ]
  },
  {
   "cell_type": "code",
   "execution_count": 9,
   "id": "d76da66f",
   "metadata": {},
   "outputs": [],
   "source": [
    "#Load the MNIST model\n",
    "MNIST_model = tf.keras.models.load_model('saved_model/MNIST')"
   ]
  },
  {
   "cell_type": "code",
   "execution_count": 10,
   "id": "d497bc8a",
   "metadata": {},
   "outputs": [
    {
     "name": "stdout",
     "output_type": "stream",
     "text": [
      "3/3 [==============================] - 0s 3ms/step\n"
     ]
    }
   ],
   "source": [
    "arg = tf.convert_to_tensor(allInput)\n",
    "probability_model = tf.keras.Sequential([MNIST_model,tf.keras.layers.Softmax()])\n",
    "predictions = probability_model.predict(arg)\n"
   ]
  },
  {
   "cell_type": "code",
   "execution_count": 11,
   "id": "0e25d914",
   "metadata": {},
   "outputs": [],
   "source": [
    "allRes = np.zeros(shape=81)\n",
    "for i in range(len(predictions)):\n",
    "    res = np.argmax(predictions[i])\n",
    "    allRes[i] = res\n",
    "    #print(i,\" : \",res)\n",
    "allResReshape = np.reshape(allRes, (9,9))\n",
    "\n",
    "#     plt.subplot(9,9,i+1)\n",
    "#     plt.imshow(allInput[i],cmap=plt.cm.binary)\n",
    "#     plt.xticks([])\n",
    "#     plt.yticks([])\n",
    "#     plt.xlabel(res)\n",
    "# plt.subplots_adjust(left=0.1,\n",
    "#                     bottom=0.1, \n",
    "#                     right=0.9, \n",
    "#                     top=0.9, \n",
    "#                     wspace=0.4, \n",
    "#                     hspace=1.7)\n",
    "# plt.show()"
   ]
  },
  {
   "cell_type": "markdown",
   "id": "e868dd6e",
   "metadata": {},
   "source": [
    "## UI to correct the digits"
   ]
  },
  {
   "cell_type": "code",
   "execution_count": 14,
   "id": "b009f3d7",
   "metadata": {},
   "outputs": [
    {
     "ename": "SystemExit",
     "evalue": "",
     "output_type": "error",
     "traceback": [
      "An exception has occurred, use %tb to see the full traceback.\n",
      "\u001b[1;31mSystemExit\u001b[0m\n"
     ]
    },
    {
     "name": "stderr",
     "output_type": "stream",
     "text": [
      "c:\\Users\\hrevois\\AppData\\Local\\Programs\\Python\\Python310\\lib\\site-packages\\IPython\\core\\interactiveshell.py:3406: UserWarning: To exit: use 'exit', 'quit', or Ctrl-D.\n",
      "  warn(\"To exit: use 'exit', 'quit', or Ctrl-D.\", stacklevel=1)\n"
     ]
    }
   ],
   "source": [
    "##Create PySimpleGUI to update the wrong digits (try table)\n",
    "testVal = [[1,2,3],[4,5,6],[7,8,9]]\n",
    "headings =  ['1','2','3']\n",
    "layout = [[sg.Text(\"Correct mistakes\")], [sg.Table(values = testVal,headings=headings)],[sg.Button(\"Done\")]]\n",
    "\n",
    "# Create the window\n",
    "window = sg.Window(\"Sudoku solver\", layout)\n",
    "# Create an event loop\n",
    "while True:\n",
    "    event, values = window.read()\n",
    "    # End program if user closes window or\n",
    "    # presses the OK button\n",
    "    if event == \"Done\":\n",
    "        break\n",
    "    if event == sg.WIN_CLOSED:\n",
    "        break\n",
    "\n",
    "window.close()\n",
    "print(flagMode)"
   ]
  },
  {
   "cell_type": "code",
   "execution_count": null,
   "id": "bdb05b6e",
   "metadata": {},
   "outputs": [],
   "source": []
  }
 ],
 "metadata": {
  "kernelspec": {
   "display_name": "Python 3.10.4 64-bit",
   "language": "python",
   "name": "python3"
  },
  "language_info": {
   "codemirror_mode": {
    "name": "ipython",
    "version": 3
   },
   "file_extension": ".py",
   "mimetype": "text/x-python",
   "name": "python",
   "nbconvert_exporter": "python",
   "pygments_lexer": "ipython3",
   "version": "3.10.4"
  },
  "vscode": {
   "interpreter": {
    "hash": "d79e16aa1ed97dd8c9e58e0190dbee6b5fd1b50773723c344076f141e6398056"
   }
  }
 },
 "nbformat": 4,
 "nbformat_minor": 5
}
