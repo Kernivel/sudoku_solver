{
 "cells": [
  {
   "cell_type": "markdown",
   "id": "27ee8647",
   "metadata": {},
   "source": [
    "# Ma formation : Opencv "
   ]
  },
  {
   "cell_type": "markdown",
   "id": "3b6803ac",
   "metadata": {},
   "source": [
    "## import package"
   ]
  },
  {
   "cell_type": "code",
   "execution_count": 1,
   "id": "ecefa3c3",
   "metadata": {},
   "outputs": [],
   "source": [
    "from asyncio import threads\n",
    "from pickletools import uint8\n",
    "import cv2\n",
    "import numpy as np\n",
    "import tensorflow as tf\n",
    "from matplotlib import pyplot as plt"
   ]
  },
  {
   "cell_type": "markdown",
   "id": "e3a2dfec",
   "metadata": {},
   "source": [
    "## Functions"
   ]
  },
  {
   "cell_type": "code",
   "execution_count": 2,
   "id": "90e676cb",
   "metadata": {},
   "outputs": [],
   "source": [
    "def getPerspective(img,location,height = 900, width = 900):\n",
    "    cornersOg = np.float32([location[0], location[3], location[1], location[2]])\n",
    "    cornersFlattened = np.float32([[0, 0], [width, 0], [0, height], [width, height]])\n",
    "    transformMatrix = cv2.getPerspectiveTransform(cornersOg,cornersFlattened)\n",
    "    result = cv2.warpPerspective(img,transformMatrix,(width,height))\n",
    "    return result"
   ]
  },
  {
   "cell_type": "code",
   "execution_count": 3,
   "id": "60137e33",
   "metadata": {},
   "outputs": [],
   "source": [
    "#Create the webcam object using the default cam (0)\n",
    "\n",
    "MNIST_model = tf.keras.models.load_model('saved_model/MNIST')\n"
   ]
  },
  {
   "cell_type": "code",
   "execution_count": 4,
   "id": "7b30d385",
   "metadata": {},
   "outputs": [
    {
     "name": "stdout",
     "output_type": "stream",
     "text": [
      "Model: \"sequential\"\n",
      "_________________________________________________________________\n",
      " Layer (type)                Output Shape              Param #   \n",
      "=================================================================\n",
      " flatten (Flatten)           (None, 784)               0         \n",
      "                                                                 \n",
      " dense (Dense)               (None, 64)                50240     \n",
      "                                                                 \n",
      " dense_1 (Dense)             (None, 10)                650       \n",
      "                                                                 \n",
      "=================================================================\n",
      "Total params: 50,890\n",
      "Trainable params: 50,890\n",
      "Non-trainable params: 0\n",
      "_________________________________________________________________\n"
     ]
    }
   ],
   "source": [
    "MNIST_model.summary()"
   ]
  },
  {
   "cell_type": "code",
   "execution_count": 14,
   "id": "82d70c02",
   "metadata": {},
   "outputs": [
    {
     "name": "stdout",
     "output_type": "stream",
     "text": [
      "328\n",
      "238\n",
      "112\n",
      "544\n",
      "852\n",
      "853\n",
      "732\n",
      "505\n",
      "192\n",
      "786\n",
      "690\n",
      "95\n",
      "789\n",
      "735\n",
      "723\n",
      "740\n",
      "805\n",
      "768\n"
     ]
    }
   ],
   "source": [
    "while True:\n",
    "    #Fetch the data from the feed\n",
    "    cam = cv2.VideoCapture(0)\n",
    "    [ret,image] = cam.read()\n",
    "    if not ret:\n",
    "        raise IOError(\"No image fetched\")\n",
    "    gray = cv2.cvtColor(image,cv2.COLOR_RGB2GRAY)\n",
    "    blur = cv2.GaussianBlur(gray,(5,5),4)\n",
    "    thresh = cv2.adaptiveThreshold(blur,255,cv2.ADAPTIVE_THRESH_GAUSSIAN_C,cv2.THRESH_BINARY_INV,9,1)\n",
    "    contours, hierarchy = cv2.findContours(thresh,cv2.RETR_TREE,cv2.CHAIN_APPROX_SIMPLE)\n",
    "    #cv2.drawContours(image,contours,-1,(0,255,0),2)\n",
    "    mask = None\n",
    "    for i,contour in enumerate(contours):\n",
    "        area = cv2.contourArea(contour)\n",
    "        if area>10000:\n",
    "            #print(area)\n",
    "            approx = 0\n",
    "            approx = cv2.approxPolyDP(contour,0.01*cv2.arcLength(contour,True),True)\n",
    "            if len(approx == 4):\n",
    "                mask = np.zeros(gray.shape,np.uint8)\n",
    "                cv2.drawContours(image,contours,i,(255,0,0),2)\n",
    "                cv2.drawContours(mask,contours,i,255,-1)\n",
    "                cv2.drawContours(mask,contours,i,0,2)\n",
    "                out = np.zeros_like(gray)\n",
    "                out[mask==255] = gray[mask==255]\n",
    "                blur = cv2.GaussianBlur(out,(3,3),1)\n",
    "                newTresh = cv2.adaptiveThreshold(blur,255,cv2.ADAPTIVE_THRESH_GAUSSIAN_C,cv2.THRESH_BINARY_INV,9,5)\n",
    "                gridContours, gridHierarchy = cv2.findContours(newTresh,cv2.RETR_TREE,cv2.CHAIN_APPROX_SIMPLE)\n",
    "                flatImage = getPerspective(gray,approx)\n",
    "                flatImageBlur = cv2.GaussianBlur(flatImage,(5,5),1)\n",
    "                flatImageTresh = cv2.adaptiveThreshold(flatImageBlur,255,cv2.ADAPTIVE_THRESH_GAUSSIAN_C,cv2.THRESH_BINARY_INV,9,3)\n",
    "                lines = cv2.HoughLinesP(flatImageTresh,1,np.pi/90,100,10)\n",
    "                if lines is not None:\n",
    "                    print(len(lines))\n",
    "                    for points in lines:\n",
    "                        # Extracted points nested in the list\n",
    "                        x1,y1,x2,y2=points[0]\n",
    "                        # Draw the lines joing the points\n",
    "                        # On the original image\n",
    "                        cv2.line(flatImage,(x1,y1),(x2,y2),(0,255,255),2)\n",
    "                cv2.imshow(\"Isolated\",flatImageTresh)\n",
    "                #cv2.imshow(\"Lines\",flatImage)\n",
    "            break\n",
    "            \n",
    "    cv2.imshow('Webcam',image)\n",
    "    #Exit pressing 'ESC'\n",
    "    c = cv2.waitKey(1)\n",
    "    if c == 27:\n",
    "        break\n",
    "\n",
    "cam.release()\n",
    "cv2.destroyAllWindows()\n"
   ]
  },
  {
   "cell_type": "code",
   "execution_count": 37,
   "id": "d43408ca",
   "metadata": {},
   "outputs": [
    {
     "name": "stdout",
     "output_type": "stream",
     "text": [
      "(28, 28)\n"
     ]
    },
    {
     "data": {
      "image/png": "[encoded data removed]",
      "text/plain": [
       "<Figure size 432x288 with 81 Axes>"
      ]
     },
     "metadata": {},
     "output_type": "display_data"
    }
   ],
   "source": [
    "sudoku = np.zeros((9,9),np.int8)\n",
    "allInput = []\n",
    "for idx, x in np.ndenumerate(sudoku):\n",
    "    #print(idx)\n",
    "    i = idx[0]\n",
    "    j = idx[1]\n",
    "    #cellImage = np.zeros((100,100),np.uint8)\n",
    "    cellImage = flatImageTresh[i*100+5:i*100+90,j*100+5:j*100+90]\n",
    "    #cellImageBlur = cv2.GaussianBlur(cellImage,(5,5),1)\n",
    "    #cellImageTresh = cv2.adaptiveThreshold(cellImageBlur,255,cv2.ADAPTIVE_THRESH_GAUSSIAN_C,cv2.THRESH_BINARY,9,3)\n",
    "    cv2.imshow('Current cellImage',cellImage)\n",
    "    #cv2.imshow('Current cellImageBlur',cellImageBlur)\n",
    "    #cv2.imshow('Current cellImageTresh',cellImageTresh)\n",
    "    #print(cellImage.shape()) \n",
    "    inputCV2 = cv2.resize(cellImage,(28,28))\n",
    "    input = np.zeros((28,28),np.float32)\n",
    "    input[inputCV2 == 255] = 255\n",
    "    plt.subplot(9,9,i*9+j+1)\n",
    "    #plt.imshow(input,cmap=plt.cm.binary)\n",
    "    inputInverted = np.ones((28,28),np.float32)\n",
    "    inputInverted[input == 1] = 0\n",
    "    plt.imshow(input,cmap=plt.cm.binary)\n",
    "\n",
    "    plt.xticks([])\n",
    "    plt.yticks([])\n",
    "    #allInput = [allInput,input]\n",
    "    allInput.append(input)\n",
    "print(input.shape)\n",
    "plt.show()\n"
   ]
  },
  {
   "cell_type": "code",
   "execution_count": 38,
   "id": "d86e417d",
   "metadata": {},
   "outputs": [
    {
     "name": "stdout",
     "output_type": "stream",
     "text": [
      "WARNING:tensorflow:5 out of the last 13 calls to <function Model.make_predict_function.<locals>.predict_function at 0x000002000172FC70> triggered tf.function retracing. Tracing is expensive and the excessive number of tracings could be due to (1) creating @tf.function repeatedly in a loop, (2) passing tensors with different shapes, (3) passing Python objects instead of tensors. For (1), please define your @tf.function outside of the loop. For (2), @tf.function has reduce_retracing=True option that can avoid unnecessary retracing. For (3), please refer to https://www.tensorflow.org/guide/function#controlling_retracing and https://www.tensorflow.org/api_docs/python/tf/function for  more details.\n",
      "3/3 [==============================] - 0s 1ms/step\n"
     ]
    }
   ],
   "source": [
    "arg = tf.convert_to_tensor(allInput)\n",
    "probability_model = tf.keras.Sequential([MNIST_model,tf.keras.layers.Softmax()])\n",
    "predictions = probability_model.predict(arg)"
   ]
  },
  {
   "cell_type": "code",
   "execution_count": 39,
   "id": "db147cc2",
   "metadata": {},
   "outputs": [
    {
     "data": {
      "image/png": "[encoded data removed]",
      "text/plain": [
       "<Figure size 432x288 with 81 Axes>"
      ]
     },
     "metadata": {},
     "output_type": "display_data"
    }
   ],
   "source": [
    "for i in range(len(predictions)):\n",
    "    res = np.argmax(predictions[i])\n",
    "    #print(i,\" : \",res)\n",
    "    plt.subplot(9,9,i+1)\n",
    "    plt.imshow(allInput[i],cmap=plt.cm.binary)\n",
    "    plt.xticks([])\n",
    "    plt.yticks([])\n",
    "    plt.xlabel(res)\n",
    "plt.subplots_adjust(left=0.1,\n",
    "                    bottom=0.1, \n",
    "                    right=0.9, \n",
    "                    top=0.9, \n",
    "                    wspace=0.4, \n",
    "                    hspace=1.7)\n",
    "plt.show()\n"
   ]
  },
  {
   "cell_type": "code",
   "execution_count": null,
   "id": "813b9f78",
   "metadata": {},
   "outputs": [],
   "source": []
  }
 ],
 "metadata": {
  "kernelspec": {
   "display_name": "Python 3 (ipykernel)",
   "language": "python",
   "name": "python3"
  },
  "language_info": {
   "codemirror_mode": {
    "name": "ipython",
    "version": 3
   },
   "file_extension": ".py",
   "mimetype": "text/x-python",
   "name": "python",
   "nbconvert_exporter": "python",
   "pygments_lexer": "ipython3",
   "version": "3.10.4"
  }
 },
 "nbformat": 4,
 "nbformat_minor": 5
}
