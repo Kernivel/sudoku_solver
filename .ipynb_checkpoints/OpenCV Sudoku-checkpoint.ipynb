{
 "cells": [
  {
   "cell_type": "markdown",
   "id": "fa83b90d",
   "metadata": {},
   "source": [
    "# Ma formation : Opencv "
   ]
  },
  {
   "cell_type": "markdown",
   "id": "01890ee3",
   "metadata": {},
   "source": [
    "## import package"
   ]
  },
  {
   "cell_type": "code",
   "execution_count": 1,
   "id": "49160444",
   "metadata": {},
   "outputs": [],
   "source": [
    "from asyncio import threads\n",
    "from pickletools import uint8\n",
    "import cv2\n",
    "import numpy as np\n",
    "import tensorflow as tf\n",
    "from matplotlib import pyplot as plt"
   ]
  },
  {
   "cell_type": "markdown",
   "id": "32abb1fa",
   "metadata": {},
   "source": []
  },
  {
   "cell_type": "code",
   "execution_count": 2,
   "id": "8c9126cf",
   "metadata": {},
   "outputs": [],
   "source": [
    "def getPerspective(img,location,height = 900, width = 900):\n",
    "    cornersOg = np.float32([location[0], location[3], location[1], location[2]])\n",
    "    cornersFlattened = np.float32([[0, 0], [width, 0], [0, height], [width, height]])\n",
    "    transformMatrix = cv2.getPerspectiveTransform(cornersOg,cornersFlattened)\n",
    "    result = cv2.warpPerspective(img,transformMatrix,(width,height))\n",
    "    return result"
   ]
  },
  {
   "cell_type": "code",
   "execution_count": 3,
   "id": "aa6dff85",
   "metadata": {},
   "outputs": [],
   "source": [
    "#Create the webcam object using the default cam (0)\n",
    "cam = cv2.VideoCapture(0)\n",
    "if not cam.isOpened():\n",
    "    raise IOError(\"Error opening cam\")\n",
    "MNIST_model = tf.keras.models.load_model('saved_model/MNIST')\n"
   ]
  },
  {
   "cell_type": "code",
   "execution_count": 5,
   "id": "ecb25202",
   "metadata": {},
   "outputs": [
    {
     "name": "stdout",
     "output_type": "stream",
     "text": [
      "Model: \"sequential\"\n",
      "_________________________________________________________________\n",
      " Layer (type)                Output Shape              Param #   \n",
      "=================================================================\n",
      " flatten (Flatten)           (None, 784)               0         \n",
      "                                                                 \n",
      " dense (Dense)               (None, 64)                50240     \n",
      "                                                                 \n",
      " dense_1 (Dense)             (None, 10)                650       \n",
      "                                                                 \n",
      "=================================================================\n",
      "Total params: 50,890\n",
      "Trainable params: 50,890\n",
      "Non-trainable params: 0\n",
      "_________________________________________________________________\n"
     ]
    }
   ],
   "source": [
    "MNIST_model.summary()"
   ]
  },
  {
   "cell_type": "code",
   "execution_count": 7,
   "id": "53b20e5b",
   "metadata": {},
   "outputs": [
    {
     "ename": "OSError",
     "evalue": "No image fetched",
     "output_type": "error",
     "traceback": [
      "\u001b[1;31m---------------------------------------------------------------------------\u001b[0m",
      "\u001b[1;31mOSError\u001b[0m                                   Traceback (most recent call last)",
      "Input \u001b[1;32mIn [7]\u001b[0m, in \u001b[0;36m<cell line: 1>\u001b[1;34m()\u001b[0m\n\u001b[0;32m      3\u001b[0m [ret,image] \u001b[38;5;241m=\u001b[39m cam\u001b[38;5;241m.\u001b[39mread()\n\u001b[0;32m      4\u001b[0m \u001b[38;5;28;01mif\u001b[39;00m \u001b[38;5;129;01mnot\u001b[39;00m ret:\n\u001b[1;32m----> 5\u001b[0m     \u001b[38;5;28;01mraise\u001b[39;00m \u001b[38;5;167;01mIOError\u001b[39;00m(\u001b[38;5;124m\"\u001b[39m\u001b[38;5;124mNo image fetched\u001b[39m\u001b[38;5;124m\"\u001b[39m)\n\u001b[0;32m      6\u001b[0m gray \u001b[38;5;241m=\u001b[39m cv2\u001b[38;5;241m.\u001b[39mcvtColor(image,cv2\u001b[38;5;241m.\u001b[39mCOLOR_RGB2GRAY)\n\u001b[0;32m      7\u001b[0m blur \u001b[38;5;241m=\u001b[39m cv2\u001b[38;5;241m.\u001b[39mGaussianBlur(gray,(\u001b[38;5;241m5\u001b[39m,\u001b[38;5;241m5\u001b[39m),\u001b[38;5;241m4\u001b[39m)\n",
      "\u001b[1;31mOSError\u001b[0m: No image fetched"
     ]
    }
   ],
   "source": [
    "while True:\n",
    "    #Fetch the data from the feed\n",
    "    cam.read()\n",
    "    if not ret:\n",
    "        raise IOError(\"No image fetched\")\n",
    "    gray = cv2.cvtColor(image,cv2.COLOR_RGB2GRAY)\n",
    "    blur = cv2.GaussianBlur(gray,(5,5),4)\n",
    "    thresh = cv2.adaptiveThreshold(blur,255,cv2.ADAPTIVE_THRESH_GAUSSIAN_C,cv2.THRESH_BINARY_INV,9,1)\n",
    "    contours, hierarchy = cv2.findContours(thresh,cv2.RETR_TREE,cv2.CHAIN_APPROX_SIMPLE)\n",
    "    #cv2.drawContours(image,contours,-1,(0,255,0),2)\n",
    "    mask = None\n",
    "    for i,contour in enumerate(contours):\n",
    "        area = cv2.contourArea(contour)\n",
    "        if area>10000:\n",
    "            #print(area)\n",
    "            approx = 0\n",
    "            approx = cv2.approxPolyDP(contour,0.01*cv2.arcLength(contour,True),True)\n",
    "            if len(approx == 4):\n",
    "                mask = np.zeros(gray.shape,np.uint8)\n",
    "                cv2.drawContours(image,contours,i,(255,0,0),2)\n",
    "                cv2.drawContours(mask,contours,i,255,-1)\n",
    "                cv2.drawContours(mask,contours,i,0,2)\n",
    "                out = np.zeros_like(gray)\n",
    "                out[mask==255] = gray[mask==255]\n",
    "                blur = cv2.GaussianBlur(out,(3,3),1)\n",
    "                newTresh = cv2.adaptiveThreshold(blur,255,cv2.ADAPTIVE_THRESH_GAUSSIAN_C,cv2.THRESH_BINARY_INV,9,5)\n",
    "                gridContours, gridHierarchy = cv2.findContours(newTresh,cv2.RETR_TREE,cv2.CHAIN_APPROX_SIMPLE)\n",
    "                flatImage = getPerspective(gray,approx)\n",
    "                flatImageBlur = cv2.GaussianBlur(flatImage,(5,5),1)\n",
    "                flatImageTresh = cv2.adaptiveThreshold(flatImageBlur,255,cv2.ADAPTIVE_THRESH_GAUSSIAN_C,cv2.THRESH_BINARY_INV,9,3)\n",
    "                lines = cv2.HoughLinesP(flatImageTresh,1,np.pi/90,100,10)\n",
    "                if lines is not None:\n",
    "                    print(len(lines))\n",
    "                    for points in lines:\n",
    "                        # Extracted points nested in the list\n",
    "                        x1,y1,x2,y2=points[0]\n",
    "                        # Draw the lines joing the points\n",
    "                        # On the original image\n",
    "                        cv2.line(flatImage,(x1,y1),(x2,y2),(0,255,255),2)\n",
    "                cv2.imshow(\"Isolated\",flatImageTresh)\n",
    "                #cv2.imshow(\"Lines\",flatImage)\n",
    "            break\n",
    "            \n",
    "    cv2.imshow('Webcam',image)\n",
    "    #Exit pressing 'ESC'\n",
    "    c = cv2.waitKey(1)\n",
    "    if c == 27:\n",
    "        break\n"
   ]
  },
  {
   "cell_type": "code",
   "execution_count": null,
   "id": "15f3814d",
   "metadata": {},
   "outputs": [],
   "source": []
  }
 ],
 "metadata": {
  "kernelspec": {
   "display_name": "Python 3 (ipykernel)",
   "language": "python",
   "name": "python3"
  },
  "language_info": {
   "codemirror_mode": {
    "name": "ipython",
    "version": 3
   },
   "file_extension": ".py",
   "mimetype": "text/x-python",
   "name": "python",
   "nbconvert_exporter": "python",
   "pygments_lexer": "ipython3",
   "version": "3.10.4"
  }
 },
 "nbformat": 4,
 "nbformat_minor": 5
}
