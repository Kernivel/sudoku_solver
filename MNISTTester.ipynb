{
 "cells": [
  {
   "cell_type": "markdown",
   "id": "27ee8647",
   "metadata": {},
   "source": [
    "# Ma formation : Opencv "
   ]
  },
  {
   "cell_type": "markdown",
   "id": "3b6803ac",
   "metadata": {},
   "source": [
    "## import package"
   ]
  },
  {
   "cell_type": "code",
   "execution_count": 1,
   "id": "ecefa3c3",
   "metadata": {},
   "outputs": [],
   "source": [
    "from asyncio import threads\n",
    "from pickletools import uint8\n",
    "import cv2\n",
    "import numpy as np\n",
    "import tensorflow as tf\n",
    "from matplotlib import pyplot as plt\n"
   ]
  },
  {
   "cell_type": "markdown",
   "id": "a1220d78",
   "metadata": {},
   "source": [
    "## Load image"
   ]
  },
  {
   "cell_type": "code",
   "execution_count": 6,
   "id": "f8c1fe2c",
   "metadata": {},
   "outputs": [],
   "source": [
    "image = cv2.imread(\"assets/2.png\")"
   ]
  },
  {
   "cell_type": "markdown",
   "id": "8718e59c",
   "metadata": {},
   "source": [
    "## Adapt the data"
   ]
  },
  {
   "cell_type": "code",
   "execution_count": 7,
   "id": "a9c5ad78",
   "metadata": {},
   "outputs": [
    {
     "data": {
      "image/png": "[encoded data removed]",
      "text/plain": [
       "<Figure size 432x288 with 2 Axes>"
      ]
     },
     "metadata": {
      "needs_background": "light"
     },
     "output_type": "display_data"
    }
   ],
   "source": [
    "imageGray = cv2.cvtColor(image,cv2.COLOR_BGR2GRAY)\n",
    "invertedInput = cv2.bitwise_not(imageGray)\n",
    "imageResize = cv2.resize(invertedInput,(28,28))\n",
    "#imageNormalized = imageResize/255.0\n",
    "imageNormalized = tf.keras.utils.normalize(imageResize)\n",
    "inputs = []\n",
    "#inputs.append(imageResize)\n",
    "plt.imshow(imageNormalized,cmap='binary')\n",
    "plt.colorbar()\n",
    "plt.show()\n",
    "inputs.append(imageNormalized)\n",
    "\n",
    "arg = tf.convert_to_tensor(inputs)\n"
   ]
  },
  {
   "cell_type": "markdown",
   "id": "b5818d82",
   "metadata": {},
   "source": [
    "## Load model"
   ]
  },
  {
   "cell_type": "code",
   "execution_count": 8,
   "id": "d76da66f",
   "metadata": {},
   "outputs": [],
   "source": [
    "#Load the MNIST model\n",
    "MNIST_model = tf.keras.models.load_model('saved_model/MNIST')"
   ]
  },
  {
   "cell_type": "markdown",
   "id": "62a39b3f",
   "metadata": {},
   "source": [
    "## Test the value with MNIST"
   ]
  },
  {
   "cell_type": "code",
   "execution_count": 9,
   "id": "0398f619",
   "metadata": {},
   "outputs": [
    {
     "name": "stdout",
     "output_type": "stream",
     "text": [
      "1/1 [==============================] - 0s 66ms/step\n",
      "2\n",
      "[[9.6159568e-04 5.7961177e-02 7.3809004e-01 1.9092652e-03 1.9067240e-07\n",
      "  7.4487136e-05 2.0660996e-06 2.4185788e-04 2.0019770e-01 5.6172803e-04]]\n"
     ]
    }
   ],
   "source": [
    "prediction = MNIST_model.predict(arg)\n",
    "print(np.argmax(prediction))\n",
    "print(prediction)"
   ]
  },
  {
   "cell_type": "code",
   "execution_count": null,
   "id": "c43d4675",
   "metadata": {},
   "outputs": [],
   "source": []
  }
 ],
 "metadata": {
  "interpreter": {
   "hash": "d79e16aa1ed97dd8c9e58e0190dbee6b5fd1b50773723c344076f141e6398056"
  },
  "kernelspec": {
   "display_name": "Python 3.10.4 64-bit",
   "language": "python",
   "name": "python3"
  },
  "language_info": {
   "codemirror_mode": {
    "name": "ipython",
    "version": 3
   },
   "file_extension": ".py",
   "mimetype": "text/x-python",
   "name": "python",
   "nbconvert_exporter": "python",
   "pygments_lexer": "ipython3",
   "version": "3.10.4"
  }
 },
 "nbformat": 4,
 "nbformat_minor": 5
}
