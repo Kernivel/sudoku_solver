{
 "cells": [
  {
   "cell_type": "markdown",
   "id": "27ee8647",
   "metadata": {},
   "source": [
    "# Ma formation : Opencv "
   ]
  },
  {
   "cell_type": "markdown",
   "id": "3b6803ac",
   "metadata": {},
   "source": [
    "## import package"
   ]
  },
  {
   "cell_type": "code",
   "execution_count": 20,
   "id": "ecefa3c3",
   "metadata": {},
   "outputs": [],
   "source": [
    "from asyncio import threads\n",
    "from pickletools import uint8\n",
    "import cv2\n",
    "import numpy as np\n",
    "import tensorflow as tf\n",
    "from matplotlib import pyplot as plt\n"
   ]
  },
  {
   "cell_type": "markdown",
   "id": "b5818d82",
   "metadata": {},
   "source": [
    "## Load model"
   ]
  },
  {
   "cell_type": "code",
   "execution_count": 29,
   "id": "d76da66f",
   "metadata": {},
   "outputs": [],
   "source": [
    "#Load the MNIST model\n",
    "MNIST_model = tf.keras.models.load_model('saved_model/MNIST')"
   ]
  },
  {
   "cell_type": "markdown",
   "id": "a1220d78",
   "metadata": {},
   "source": [
    "## Load image"
   ]
  },
  {
   "cell_type": "code",
   "execution_count": 25,
   "id": "f8c1fe2c",
   "metadata": {},
   "outputs": [],
   "source": [
    "image = cv2.imread(\"assets/5.png\")"
   ]
  },
  {
   "cell_type": "markdown",
   "id": "8718e59c",
   "metadata": {},
   "source": [
    "## Adapt the data"
   ]
  },
  {
   "cell_type": "code",
   "execution_count": 28,
   "id": "a9c5ad78",
   "metadata": {},
   "outputs": [
    {
     "data": {
      "image/png": "[encoded data removed]",
      "text/plain": [
       "<Figure size 432x288 with 2 Axes>"
      ]
     },
     "metadata": {
      "needs_background": "light"
     },
     "output_type": "display_data"
    }
   ],
   "source": [
    "imageGray = cv2.cvtColor(image,cv2.COLOR_BGR2GRAY)\n",
    "invertedInput = cv2.bitwise_not(imageGray)\n",
    "imageResize = cv2.resize(imageGray,(28,28))\n",
    "#imageNormalized = imageResize/255.0\n",
    "\n",
    "inputs = []\n",
    "#inputs.append(imageResize)\n",
    "plt.imshow(invertedInput,cmap='binary')\n",
    "plt.colorbar()\n",
    "plt.show()\n",
    "inputs.append(cv2.resize(invertedInput/255.0,(28,28)))\n",
    "\n",
    "arg = tf.convert_to_tensor(inputs)\n"
   ]
  },
  {
   "cell_type": "markdown",
   "id": "62a39b3f",
   "metadata": {},
   "source": [
    "## Test the value with MNIST"
   ]
  },
  {
   "cell_type": "code",
   "execution_count": 30,
   "id": "0398f619",
   "metadata": {},
   "outputs": [
    {
     "name": "stdout",
     "output_type": "stream",
     "text": [
      "1/1 [==============================] - 0s 50ms/step\n",
      "5\n"
     ]
    }
   ],
   "source": [
    "prediction = MNIST_model.predict(arg)\n",
    "print(np.argmax(prediction))"
   ]
  },
  {
   "cell_type": "code",
   "execution_count": null,
   "id": "7bca2e13",
   "metadata": {},
   "outputs": [],
   "source": []
  }
 ],
 "metadata": {
  "interpreter": {
   "hash": "d79e16aa1ed97dd8c9e58e0190dbee6b5fd1b50773723c344076f141e6398056"
  },
  "kernelspec": {
   "display_name": "Python 3.10.4 64-bit",
   "language": "python",
   "name": "python3"
  },
  "language_info": {
   "codemirror_mode": {
    "name": "ipython",
    "version": 3
   },
   "file_extension": ".py",
   "mimetype": "text/x-python",
   "name": "python",
   "nbconvert_exporter": "python",
   "pygments_lexer": "ipython3",
   "version": "3.10.4"
  }
 },
 "nbformat": 4,
 "nbformat_minor": 5
}
